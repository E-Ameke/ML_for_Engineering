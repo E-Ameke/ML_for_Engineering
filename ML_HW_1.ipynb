{
  "nbformat": 4,
  "nbformat_minor": 0,
  "metadata": {
    "colab": {
      "provenance": []
    },
    "kernelspec": {
      "name": "python3",
      "display_name": "Python 3"
    },
    "language_info": {
      "name": "python"
    }
  },
  "cells": [
    {
      "cell_type": "markdown",
      "source": [
        "**MACHINE LEARNING FOR ENGINEERING**\n",
        "\n",
        "**ELIZABETH AMEKE**\n",
        "\n",
        "**662055975**\n",
        "\n",
        "**HOMEWORK 1**\n",
        "\n"
      ],
      "metadata": {
        "id": "U_qo41xTlIUj"
      }
    },
    {
      "cell_type": "markdown",
      "source": [
        "."
      ],
      "metadata": {
        "id": "kvBcE486l9Xo"
      }
    },
    {
      "cell_type": "markdown",
      "source": [
        "1. Consider feature vectors, 𝐱𝟏 = ⌈2 3 4 8 9⌉𝑇 and 𝐱𝟐 = ⌈2 −3 −4 89⌉𝑇.\n",
        "\n",
        "(a) How many features are there in 𝐱𝟏 and 𝐱𝟐?\n",
        "\n",
        "Ans:\n",
        "\n",
        "x1 = 5 features.\n",
        "\n",
        "x2 = 4 features.\n"
      ],
      "metadata": {
        "id": "uVTZqI6wlVj0"
      }
    },
    {
      "cell_type": "markdown",
      "source": [
        "."
      ],
      "metadata": {
        "id": "hiMtnMSAnfAf"
      }
    },
    {
      "cell_type": "markdown",
      "source": [
        "(b) What are the 𝐿1, 𝐿2, and 𝐿∞ norms for each feature vector?"
      ],
      "metadata": {
        "id": "VgN60ctDngWN"
      }
    },
    {
      "cell_type": "code",
      "source": [
        "#Ans for x1 vector:\n",
        "import numpy as np\n",
        "\n",
        "# Defining the given vector 𝐱𝟏\n",
        "𝐱𝟏 = np.array([2, 3, 4, 8, 9])\n",
        "\n",
        "# Transposing the vector\n",
        "transposed_𝐱𝟏 = np.transpose(𝐱𝟏)\n",
        "\n",
        "# L1 norm (Manhattan norm)\n",
        "𝐱𝟏_l1_norm = np.linalg.norm(𝐱𝟏, ord=1)\n",
        "print(f\"L1 Norm: {𝐱𝟏_l1_norm}\")\n",
        "\n",
        "# L2 norm (Euclidean norm)\n",
        "𝐱𝟏_l2_norm = np.linalg.norm(𝐱𝟏, ord=2)\n",
        "print(f\"L2 Norm: {𝐱𝟏_l2_norm}\")\n",
        "\n",
        "# L∞ norm (Max-norm)\n",
        "𝐱𝟏_l_inf_norm = np.linalg.norm(𝐱𝟏, ord=np.inf)\n",
        "print(f\"L∞ Norm: {𝐱𝟏_l_inf_norm}\")\n",
        "\n"
      ],
      "metadata": {
        "colab": {
          "base_uri": "https://localhost:8080/"
        },
        "id": "zuLb12mennEO",
        "outputId": "241d3329-ff8f-4538-f0a0-5df2cc617183"
      },
      "execution_count": null,
      "outputs": [
        {
          "output_type": "stream",
          "name": "stdout",
          "text": [
            "L1 Norm: 26.0\n",
            "L2 Norm: 13.19090595827292\n",
            "L∞ Norm: 9.0\n"
          ]
        }
      ]
    },
    {
      "cell_type": "code",
      "source": [
        "#Ans for x2 vector:\n",
        "import numpy as np\n",
        "\n",
        "# Defining the given vector 𝐱2\n",
        "𝐱2 = np.array([2, -3, -4, 89])\n",
        "\n",
        "# Transposing the vector\n",
        "transposed_𝐱2 = np.transpose(𝐱2)\n",
        "\n",
        "# L1 norm (Manhattan norm)\n",
        "𝐱2_l1_norm = np.linalg.norm(𝐱2, ord=1)\n",
        "print(f\"L1 Norm: {𝐱2_l1_norm}\")\n",
        "\n",
        "# L2 norm (Euclidean norm)\n",
        "𝐱2_l2_norm = np.linalg.norm(𝐱2, ord=2)\n",
        "print(f\"L2 Norm: {𝐱2_l2_norm}\")\n",
        "\n",
        "# L∞ norm (Max-norm)\n",
        "𝐱2_l_inf_norm = np.linalg.norm(𝐱2, ord=np.inf)\n",
        "print(f\"L∞ Norm: {𝐱2_l_inf_norm}\")\n",
        "\n"
      ],
      "metadata": {
        "colab": {
          "base_uri": "https://localhost:8080/"
        },
        "id": "8y1nLMuxnuxg",
        "outputId": "c3f6c20d-7a60-428d-aeb0-9d8806217b93"
      },
      "execution_count": null,
      "outputs": [
        {
          "output_type": "stream",
          "name": "stdout",
          "text": [
            "L1 Norm: 98.0\n",
            "L2 Norm: 89.16277250063504\n",
            "L∞ Norm: 89.0\n"
          ]
        }
      ]
    },
    {
      "cell_type": "markdown",
      "source": [
        "."
      ],
      "metadata": {
        "id": "l50LTroqoQET"
      }
    },
    {
      "cell_type": "markdown",
      "source": [
        "2. A color image of size 1024x1024 is input to an algorithm which outputs a 64x64 color image representing some important portions of the original image.\n",
        "[Hint: a color image comprises of multiple channels]\n",
        "\n",
        "(a) If the input is converted to a vector, 𝐱 , calculate the length of the feature vector.\n",
        "(b) If the output is converted to a vector, 𝐲, calculate the length of the output vector.\n",
        "(c) The algorithm relates the input and output vectors, 𝐱 and 𝐲 respectively, as 𝐲 =\n",
        "𝑊𝐱 + 𝐛, where W is a matrix and 𝐛 is a vector. How many elements are there in\n",
        "matrix W? How many elements are in vector b?"
      ],
      "metadata": {
        "id": "Yme_4nlroRyv"
      }
    },
    {
      "cell_type": "code",
      "source": [
        "#Answers:\n",
        "\n",
        "#(a) The length of the feature vector |𝐱| = 1024x1024x3\n",
        "#This is because the input of size,1024x1024, is a color image which has three color channels,(Red,Green,Blue).\n",
        "\n",
        "x_length = 1024*1024*3\n",
        "\n",
        "#(b)The length of the output vector |𝐲| = 64x64x3\n",
        "#This is because the output of size,64x64, is a color image which has three color channels,(Red,Green,Blue).\n",
        "\n",
        "y_length = 64*64*3\n",
        "\n",
        "print('length of x =', x_length)\n",
        "print('length of y =', y_length)\n",
        "\n"
      ],
      "metadata": {
        "colab": {
          "base_uri": "https://localhost:8080/"
        },
        "id": "Ld1WQipg3oR7",
        "outputId": "7dddc7de-6449-45f0-9ddf-00f0be6cba17"
      },
      "execution_count": null,
      "outputs": [
        {
          "output_type": "stream",
          "name": "stdout",
          "text": [
            "length of x = 3145728\n",
            "length of y = 12288\n"
          ]
        }
      ]
    },
    {
      "cell_type": "code",
      "source": [
        "#(c) 𝐲 = 𝑊𝐱 + 𝐛\n",
        "\n",
        "print ('W has', x_length*y_length, 'elements')\n",
        "print('b has',y_length,'elements')\n",
        "\n",
        "#Number of elements in matrix W = (64x64x3) x (1024x1024x3)\n",
        "#This is because 𝐱 has length (1024x1024x3) and 𝐲 has length (64x64x3)."
      ],
      "metadata": {
        "colab": {
          "base_uri": "https://localhost:8080/"
        },
        "id": "iiylbKsk2s6E",
        "outputId": "58e42d13-22ea-47e6-be4c-ce4232b108e3"
      },
      "execution_count": null,
      "outputs": [
        {
          "output_type": "stream",
          "name": "stdout",
          "text": [
            "W has 38654705664 elements\n",
            "b has 12288 elements\n"
          ]
        }
      ]
    },
    {
      "cell_type": "markdown",
      "source": [
        "."
      ],
      "metadata": {
        "id": "jhD6-DyNokWm"
      }
    },
    {
      "cell_type": "markdown",
      "source": [
        "3.Calculate 1-norm, 2-norm, ∞-norm, and Frobenius norm of\n",
        "𝑊 =([[1 −1],\n",
        "    [2 0 ]])"
      ],
      "metadata": {
        "id": "whntWV_3om12"
      }
    },
    {
      "cell_type": "code",
      "source": [
        "#Answer:\n",
        "\n",
        "import numpy as np\n",
        "\n",
        "# Defining the given matrix W\n",
        "W = np.array([[1, -1],\n",
        "                   [2, 0]])\n",
        "\n",
        "# Calculating the 1-norm\n",
        "W_norm_1 = np.linalg.norm(W, ord=1)\n",
        "print(f\"1-norm: {W_norm_1}\")\n",
        "\n",
        "# Calculating the 2-norm\n",
        "W_norm_2 = np.linalg.norm(W, ord=2)\n",
        "print(f\"2-norm: {W_norm_2}\")\n",
        "\n",
        "# Calculating the Infinity-norm\n",
        "W_norm_inf = np.linalg.norm(W, ord=np.inf)\n",
        "print(f\"Infinity-norm: {W_norm_inf}\")\n",
        "\n",
        "# Calculating the Frobenius norm\n",
        "W_frobenius_norm = np.linalg.norm(W, ord='fro')\n",
        "print(f\"Frobenius norm: {W_frobenius_norm}\")\n",
        "\n"
      ],
      "metadata": {
        "colab": {
          "base_uri": "https://localhost:8080/"
        },
        "id": "EKoZ1J2uottR",
        "outputId": "eb107546-0508-4d07-f8c9-ee1b6e5f20e4"
      },
      "execution_count": null,
      "outputs": [
        {
          "output_type": "stream",
          "name": "stdout",
          "text": [
            "1-norm: 3.0\n",
            "2-norm: 2.2882456112707374\n",
            "Infinity-norm: 2.0\n",
            "Frobenius norm: 2.449489742783178\n"
          ]
        }
      ]
    },
    {
      "cell_type": "markdown",
      "source": [
        "."
      ],
      "metadata": {
        "id": "v5axaypko0qQ"
      }
    },
    {
      "cell_type": "markdown",
      "source": [
        "4. Use the Iris dataset and the code shown in class, but choose 3 out of the 4 original features instead of two and calculate the accuracy score of classification."
      ],
      "metadata": {
        "id": "o6Px5qY-o2v7"
      }
    },
    {
      "cell_type": "code",
      "source": [
        "#Answer:\n",
        "from sklearn import datasets\n",
        "\n",
        "iris = datasets.load_iris()"
      ],
      "metadata": {
        "id": "PoLydJPQo7NW"
      },
      "execution_count": null,
      "outputs": []
    },
    {
      "cell_type": "code",
      "source": [
        "iris.data"
      ],
      "metadata": {
        "colab": {
          "base_uri": "https://localhost:8080/"
        },
        "id": "rRYEnFiZo7bl",
        "outputId": "21e2f4fe-2a85-4c66-a161-7f081a578ea5"
      },
      "execution_count": null,
      "outputs": [
        {
          "output_type": "execute_result",
          "data": {
            "text/plain": [
              "array([[5.1, 3.5, 1.4, 0.2],\n",
              "       [4.9, 3. , 1.4, 0.2],\n",
              "       [4.7, 3.2, 1.3, 0.2],\n",
              "       [4.6, 3.1, 1.5, 0.2],\n",
              "       [5. , 3.6, 1.4, 0.2],\n",
              "       [5.4, 3.9, 1.7, 0.4],\n",
              "       [4.6, 3.4, 1.4, 0.3],\n",
              "       [5. , 3.4, 1.5, 0.2],\n",
              "       [4.4, 2.9, 1.4, 0.2],\n",
              "       [4.9, 3.1, 1.5, 0.1],\n",
              "       [5.4, 3.7, 1.5, 0.2],\n",
              "       [4.8, 3.4, 1.6, 0.2],\n",
              "       [4.8, 3. , 1.4, 0.1],\n",
              "       [4.3, 3. , 1.1, 0.1],\n",
              "       [5.8, 4. , 1.2, 0.2],\n",
              "       [5.7, 4.4, 1.5, 0.4],\n",
              "       [5.4, 3.9, 1.3, 0.4],\n",
              "       [5.1, 3.5, 1.4, 0.3],\n",
              "       [5.7, 3.8, 1.7, 0.3],\n",
              "       [5.1, 3.8, 1.5, 0.3],\n",
              "       [5.4, 3.4, 1.7, 0.2],\n",
              "       [5.1, 3.7, 1.5, 0.4],\n",
              "       [4.6, 3.6, 1. , 0.2],\n",
              "       [5.1, 3.3, 1.7, 0.5],\n",
              "       [4.8, 3.4, 1.9, 0.2],\n",
              "       [5. , 3. , 1.6, 0.2],\n",
              "       [5. , 3.4, 1.6, 0.4],\n",
              "       [5.2, 3.5, 1.5, 0.2],\n",
              "       [5.2, 3.4, 1.4, 0.2],\n",
              "       [4.7, 3.2, 1.6, 0.2],\n",
              "       [4.8, 3.1, 1.6, 0.2],\n",
              "       [5.4, 3.4, 1.5, 0.4],\n",
              "       [5.2, 4.1, 1.5, 0.1],\n",
              "       [5.5, 4.2, 1.4, 0.2],\n",
              "       [4.9, 3.1, 1.5, 0.2],\n",
              "       [5. , 3.2, 1.2, 0.2],\n",
              "       [5.5, 3.5, 1.3, 0.2],\n",
              "       [4.9, 3.6, 1.4, 0.1],\n",
              "       [4.4, 3. , 1.3, 0.2],\n",
              "       [5.1, 3.4, 1.5, 0.2],\n",
              "       [5. , 3.5, 1.3, 0.3],\n",
              "       [4.5, 2.3, 1.3, 0.3],\n",
              "       [4.4, 3.2, 1.3, 0.2],\n",
              "       [5. , 3.5, 1.6, 0.6],\n",
              "       [5.1, 3.8, 1.9, 0.4],\n",
              "       [4.8, 3. , 1.4, 0.3],\n",
              "       [5.1, 3.8, 1.6, 0.2],\n",
              "       [4.6, 3.2, 1.4, 0.2],\n",
              "       [5.3, 3.7, 1.5, 0.2],\n",
              "       [5. , 3.3, 1.4, 0.2],\n",
              "       [7. , 3.2, 4.7, 1.4],\n",
              "       [6.4, 3.2, 4.5, 1.5],\n",
              "       [6.9, 3.1, 4.9, 1.5],\n",
              "       [5.5, 2.3, 4. , 1.3],\n",
              "       [6.5, 2.8, 4.6, 1.5],\n",
              "       [5.7, 2.8, 4.5, 1.3],\n",
              "       [6.3, 3.3, 4.7, 1.6],\n",
              "       [4.9, 2.4, 3.3, 1. ],\n",
              "       [6.6, 2.9, 4.6, 1.3],\n",
              "       [5.2, 2.7, 3.9, 1.4],\n",
              "       [5. , 2. , 3.5, 1. ],\n",
              "       [5.9, 3. , 4.2, 1.5],\n",
              "       [6. , 2.2, 4. , 1. ],\n",
              "       [6.1, 2.9, 4.7, 1.4],\n",
              "       [5.6, 2.9, 3.6, 1.3],\n",
              "       [6.7, 3.1, 4.4, 1.4],\n",
              "       [5.6, 3. , 4.5, 1.5],\n",
              "       [5.8, 2.7, 4.1, 1. ],\n",
              "       [6.2, 2.2, 4.5, 1.5],\n",
              "       [5.6, 2.5, 3.9, 1.1],\n",
              "       [5.9, 3.2, 4.8, 1.8],\n",
              "       [6.1, 2.8, 4. , 1.3],\n",
              "       [6.3, 2.5, 4.9, 1.5],\n",
              "       [6.1, 2.8, 4.7, 1.2],\n",
              "       [6.4, 2.9, 4.3, 1.3],\n",
              "       [6.6, 3. , 4.4, 1.4],\n",
              "       [6.8, 2.8, 4.8, 1.4],\n",
              "       [6.7, 3. , 5. , 1.7],\n",
              "       [6. , 2.9, 4.5, 1.5],\n",
              "       [5.7, 2.6, 3.5, 1. ],\n",
              "       [5.5, 2.4, 3.8, 1.1],\n",
              "       [5.5, 2.4, 3.7, 1. ],\n",
              "       [5.8, 2.7, 3.9, 1.2],\n",
              "       [6. , 2.7, 5.1, 1.6],\n",
              "       [5.4, 3. , 4.5, 1.5],\n",
              "       [6. , 3.4, 4.5, 1.6],\n",
              "       [6.7, 3.1, 4.7, 1.5],\n",
              "       [6.3, 2.3, 4.4, 1.3],\n",
              "       [5.6, 3. , 4.1, 1.3],\n",
              "       [5.5, 2.5, 4. , 1.3],\n",
              "       [5.5, 2.6, 4.4, 1.2],\n",
              "       [6.1, 3. , 4.6, 1.4],\n",
              "       [5.8, 2.6, 4. , 1.2],\n",
              "       [5. , 2.3, 3.3, 1. ],\n",
              "       [5.6, 2.7, 4.2, 1.3],\n",
              "       [5.7, 3. , 4.2, 1.2],\n",
              "       [5.7, 2.9, 4.2, 1.3],\n",
              "       [6.2, 2.9, 4.3, 1.3],\n",
              "       [5.1, 2.5, 3. , 1.1],\n",
              "       [5.7, 2.8, 4.1, 1.3],\n",
              "       [6.3, 3.3, 6. , 2.5],\n",
              "       [5.8, 2.7, 5.1, 1.9],\n",
              "       [7.1, 3. , 5.9, 2.1],\n",
              "       [6.3, 2.9, 5.6, 1.8],\n",
              "       [6.5, 3. , 5.8, 2.2],\n",
              "       [7.6, 3. , 6.6, 2.1],\n",
              "       [4.9, 2.5, 4.5, 1.7],\n",
              "       [7.3, 2.9, 6.3, 1.8],\n",
              "       [6.7, 2.5, 5.8, 1.8],\n",
              "       [7.2, 3.6, 6.1, 2.5],\n",
              "       [6.5, 3.2, 5.1, 2. ],\n",
              "       [6.4, 2.7, 5.3, 1.9],\n",
              "       [6.8, 3. , 5.5, 2.1],\n",
              "       [5.7, 2.5, 5. , 2. ],\n",
              "       [5.8, 2.8, 5.1, 2.4],\n",
              "       [6.4, 3.2, 5.3, 2.3],\n",
              "       [6.5, 3. , 5.5, 1.8],\n",
              "       [7.7, 3.8, 6.7, 2.2],\n",
              "       [7.7, 2.6, 6.9, 2.3],\n",
              "       [6. , 2.2, 5. , 1.5],\n",
              "       [6.9, 3.2, 5.7, 2.3],\n",
              "       [5.6, 2.8, 4.9, 2. ],\n",
              "       [7.7, 2.8, 6.7, 2. ],\n",
              "       [6.3, 2.7, 4.9, 1.8],\n",
              "       [6.7, 3.3, 5.7, 2.1],\n",
              "       [7.2, 3.2, 6. , 1.8],\n",
              "       [6.2, 2.8, 4.8, 1.8],\n",
              "       [6.1, 3. , 4.9, 1.8],\n",
              "       [6.4, 2.8, 5.6, 2.1],\n",
              "       [7.2, 3. , 5.8, 1.6],\n",
              "       [7.4, 2.8, 6.1, 1.9],\n",
              "       [7.9, 3.8, 6.4, 2. ],\n",
              "       [6.4, 2.8, 5.6, 2.2],\n",
              "       [6.3, 2.8, 5.1, 1.5],\n",
              "       [6.1, 2.6, 5.6, 1.4],\n",
              "       [7.7, 3. , 6.1, 2.3],\n",
              "       [6.3, 3.4, 5.6, 2.4],\n",
              "       [6.4, 3.1, 5.5, 1.8],\n",
              "       [6. , 3. , 4.8, 1.8],\n",
              "       [6.9, 3.1, 5.4, 2.1],\n",
              "       [6.7, 3.1, 5.6, 2.4],\n",
              "       [6.9, 3.1, 5.1, 2.3],\n",
              "       [5.8, 2.7, 5.1, 1.9],\n",
              "       [6.8, 3.2, 5.9, 2.3],\n",
              "       [6.7, 3.3, 5.7, 2.5],\n",
              "       [6.7, 3. , 5.2, 2.3],\n",
              "       [6.3, 2.5, 5. , 1.9],\n",
              "       [6.5, 3. , 5.2, 2. ],\n",
              "       [6.2, 3.4, 5.4, 2.3],\n",
              "       [5.9, 3. , 5.1, 1.8]])"
            ]
          },
          "metadata": {},
          "execution_count": 37
        }
      ]
    },
    {
      "cell_type": "code",
      "source": [
        "iris.feature_names"
      ],
      "metadata": {
        "colab": {
          "base_uri": "https://localhost:8080/"
        },
        "id": "3xzETLVgo7qr",
        "outputId": "67054562-59a5-48c4-803b-a7c5e0a9549c"
      },
      "execution_count": null,
      "outputs": [
        {
          "output_type": "execute_result",
          "data": {
            "text/plain": [
              "['sepal length (cm)',\n",
              " 'sepal width (cm)',\n",
              " 'petal length (cm)',\n",
              " 'petal width (cm)']"
            ]
          },
          "metadata": {},
          "execution_count": 38
        }
      ]
    },
    {
      "cell_type": "code",
      "source": [
        "iris.target_names"
      ],
      "metadata": {
        "colab": {
          "base_uri": "https://localhost:8080/"
        },
        "id": "Oflhiwh3pCTc",
        "outputId": "34825247-1f09-4daf-fcda-a3fe9ee5f62f"
      },
      "execution_count": null,
      "outputs": [
        {
          "output_type": "execute_result",
          "data": {
            "text/plain": [
              "array(['setosa', 'versicolor', 'virginica'], dtype='<U10')"
            ]
          },
          "metadata": {},
          "execution_count": 39
        }
      ]
    },
    {
      "cell_type": "code",
      "source": [
        "iris.target"
      ],
      "metadata": {
        "colab": {
          "base_uri": "https://localhost:8080/"
        },
        "id": "BpVltH3ApDCD",
        "outputId": "7115e670-9158-4b86-83d6-5823691bc83a"
      },
      "execution_count": null,
      "outputs": [
        {
          "output_type": "execute_result",
          "data": {
            "text/plain": [
              "array([0, 0, 0, 0, 0, 0, 0, 0, 0, 0, 0, 0, 0, 0, 0, 0, 0, 0, 0, 0, 0, 0,\n",
              "       0, 0, 0, 0, 0, 0, 0, 0, 0, 0, 0, 0, 0, 0, 0, 0, 0, 0, 0, 0, 0, 0,\n",
              "       0, 0, 0, 0, 0, 0, 1, 1, 1, 1, 1, 1, 1, 1, 1, 1, 1, 1, 1, 1, 1, 1,\n",
              "       1, 1, 1, 1, 1, 1, 1, 1, 1, 1, 1, 1, 1, 1, 1, 1, 1, 1, 1, 1, 1, 1,\n",
              "       1, 1, 1, 1, 1, 1, 1, 1, 1, 1, 1, 1, 2, 2, 2, 2, 2, 2, 2, 2, 2, 2,\n",
              "       2, 2, 2, 2, 2, 2, 2, 2, 2, 2, 2, 2, 2, 2, 2, 2, 2, 2, 2, 2, 2, 2,\n",
              "       2, 2, 2, 2, 2, 2, 2, 2, 2, 2, 2, 2, 2, 2, 2, 2, 2, 2])"
            ]
          },
          "metadata": {},
          "execution_count": 40
        }
      ]
    },
    {
      "cell_type": "markdown",
      "source": [
        "."
      ],
      "metadata": {
        "id": "dj8HEAlZpIdT"
      }
    },
    {
      "cell_type": "markdown",
      "source": [
        "# target = function of feature names\n",
        "(setosa, versicolor, viriginica) = f(sepal length, sepal width, petal length, petal width)"
      ],
      "metadata": {
        "id": "_M02sMtSpJXS"
      }
    },
    {
      "cell_type": "markdown",
      "source": [
        "$y = f(X)$\n",
        "\n",
        "$y \\in [0,1,2]$\n",
        "\n",
        "$X \\in {\\rm I\\!R}^4 $"
      ],
      "metadata": {
        "id": "42cUPgi0pWe-"
      }
    },
    {
      "cell_type": "code",
      "source": [
        "X = iris.data\n",
        "y = iris.target"
      ],
      "metadata": {
        "id": "YsQp2YJ_pbOO"
      },
      "execution_count": null,
      "outputs": []
    },
    {
      "cell_type": "code",
      "source": [
        "X.shape"
      ],
      "metadata": {
        "colab": {
          "base_uri": "https://localhost:8080/"
        },
        "id": "lJ0poshipbVF",
        "outputId": "8da0c908-899c-4cb9-ac17-7155d63b607d"
      },
      "execution_count": null,
      "outputs": [
        {
          "output_type": "execute_result",
          "data": {
            "text/plain": [
              "(150, 4)"
            ]
          },
          "metadata": {},
          "execution_count": 42
        }
      ]
    },
    {
      "cell_type": "code",
      "source": [
        "y.shape"
      ],
      "metadata": {
        "colab": {
          "base_uri": "https://localhost:8080/"
        },
        "id": "LiILDllxpbjY",
        "outputId": "92bd1300-9688-482a-93ca-2b58c648966e"
      },
      "execution_count": null,
      "outputs": [
        {
          "output_type": "execute_result",
          "data": {
            "text/plain": [
              "(150,)"
            ]
          },
          "metadata": {},
          "execution_count": 43
        }
      ]
    },
    {
      "cell_type": "code",
      "source": [
        "%notebook inline\n",
        "import matplotlib.pyplot as plt"
      ],
      "metadata": {
        "id": "42GqMI7mpbvY"
      },
      "execution_count": null,
      "outputs": []
    },
    {
      "cell_type": "code",
      "source": [
        "plt.scatter(X[:,0],X[:,1])\n",
        "plt.xlabel(iris.feature_names[0])\n",
        "plt.ylabel(iris.feature_names[1])"
      ],
      "metadata": {
        "colab": {
          "base_uri": "https://localhost:8080/",
          "height": 470
        },
        "id": "XcYH1A79pl1h",
        "outputId": "aa643908-e9ae-49ef-fc6c-54cdebfd251d"
      },
      "execution_count": null,
      "outputs": [
        {
          "output_type": "execute_result",
          "data": {
            "text/plain": [
              "Text(0, 0.5, 'sepal width (cm)')"
            ]
          },
          "metadata": {},
          "execution_count": 45
        },
        {
          "output_type": "display_data",
          "data": {
            "text/plain": [
              "<Figure size 640x480 with 1 Axes>"
            ],
            "image/png": "[encoded data removed]"
          },
          "metadata": {}
        }
      ]
    },
    {
      "cell_type": "code",
      "source": [
        "plot = plt.scatter(X[:,0],X[:,1],c=y)\n",
        "plt.xlabel(iris.feature_names[0])\n",
        "plt.ylabel(iris.feature_names[1])\n",
        "# plt.legend(handles=plot.legend_elements()[0], labels=iris.target_names.tolist())"
      ],
      "metadata": {
        "colab": {
          "base_uri": "https://localhost:8080/",
          "height": 470
        },
        "id": "5XLcAiZipr5-",
        "outputId": "3681abe3-a7ed-46a0-94e3-b2cc312463c1"
      },
      "execution_count": null,
      "outputs": [
        {
          "output_type": "execute_result",
          "data": {
            "text/plain": [
              "Text(0, 0.5, 'sepal width (cm)')"
            ]
          },
          "metadata": {},
          "execution_count": 46
        },
        {
          "output_type": "display_data",
          "data": {
            "text/plain": [
              "<Figure size 640x480 with 1 Axes>"
            ],
            "image/png": "[encoded data removed]"
          },
          "metadata": {}
        }
      ]
    },
    {
      "cell_type": "markdown",
      "source": [
        "."
      ],
      "metadata": {
        "id": "QXAG0zVNp6jF"
      }
    },
    {
      "cell_type": "markdown",
      "source": [
        "Considering only the first three features\n",
        "(setosa, versicolor, viriginica) = f(sepal length, sepal width,petal length)\n",
        "\n",
        "𝑦=𝑓(𝑋)\n",
        "𝑦∈[0,1,2]\n",
        "𝑋∈IR2"
      ],
      "metadata": {
        "id": "h3fksRKDp7zm"
      }
    },
    {
      "cell_type": "code",
      "source": [
        "X = iris.data[:, :3] # only selecting first three features\n",
        "y = iris.target"
      ],
      "metadata": {
        "id": "361a3yOZqDSM"
      },
      "execution_count": null,
      "outputs": []
    },
    {
      "cell_type": "code",
      "source": [
        "#Splitting the data and keeping some of the data seperate for testing the model\n",
        "\n",
        "from sklearn.model_selection import train_test_split\n",
        "\n",
        "X_train, X_test, y_train, y_test=train_test_split(\n",
        "    X,y,\n",
        "    test_size=0.40,\n",
        "    train_size=0.60,\n",
        "    random_state=123,\n",
        "    shuffle=True,\n",
        "    stratify=y)"
      ],
      "metadata": {
        "id": "QqrTv8C1qC90"
      },
      "execution_count": null,
      "outputs": []
    },
    {
      "cell_type": "code",
      "source": [
        "#Importing support vector machine model and training it\n",
        "\n",
        "from sklearn import svm\n",
        "\n",
        "clf = svm.SVC()\n",
        "clf.fit(X_train, y_train)"
      ],
      "metadata": {
        "colab": {
          "base_uri": "https://localhost:8080/",
          "height": 74
        },
        "id": "z7s2829SppwO",
        "outputId": "bceaf855-78a5-4310-d0e0-b14abebf8242"
      },
      "execution_count": null,
      "outputs": [
        {
          "output_type": "execute_result",
          "data": {
            "text/plain": [
              "SVC()"
            ],
            "text/html": [
              "<style>#sk-container-id-1 {color: black;background-color: white;}#sk-container-id-1 pre{padding: 0;}#sk-container-id-1 div.sk-toggleable {background-color: white;}#sk-container-id-1 label.sk-toggleable__label {cursor: pointer;display: block;width: 100%;margin-bottom: 0;padding: 0.3em;box-sizing: border-box;text-align: center;}#sk-container-id-1 label.sk-toggleable__label-arrow:before {content: \"▸\";float: left;margin-right: 0.25em;color: #696969;}#sk-container-id-1 label.sk-toggleable__label-arrow:hover:before {color: black;}#sk-container-id-1 div.sk-estimator:hover label.sk-toggleable__label-arrow:before {color: black;}#sk-container-id-1 div.sk-toggleable__content {max-height: 0;max-width: 0;overflow: hidden;text-align: left;background-color: #f0f8ff;}#sk-container-id-1 div.sk-toggleable__content pre {margin: 0.2em;color: black;border-radius: 0.25em;background-color: #f0f8ff;}#sk-container-id-1 input.sk-toggleable__control:checked~div.sk-toggleable__content {max-height: 200px;max-width: 100%;overflow: auto;}#sk-container-id-1 input.sk-toggleable__control:checked~label.sk-toggleable__label-arrow:before {content: \"▾\";}#sk-container-id-1 div.sk-estimator input.sk-toggleable__control:checked~label.sk-toggleable__label {background-color: #d4ebff;}#sk-container-id-1 div.sk-label input.sk-toggleable__control:checked~label.sk-toggleable__label {background-color: #d4ebff;}#sk-container-id-1 input.sk-hidden--visually {border: 0;clip: rect(1px 1px 1px 1px);clip: rect(1px, 1px, 1px, 1px);height: 1px;margin: -1px;overflow: hidden;padding: 0;position: absolute;width: 1px;}#sk-container-id-1 div.sk-estimator {font-family: monospace;background-color: #f0f8ff;border: 1px dotted black;border-radius: 0.25em;box-sizing: border-box;margin-bottom: 0.5em;}#sk-container-id-1 div.sk-estimator:hover {background-color: #d4ebff;}#sk-container-id-1 div.sk-parallel-item::after {content: \"\";width: 100%;border-bottom: 1px solid gray;flex-grow: 1;}#sk-container-id-1 div.sk-label:hover label.sk-toggleable__label {background-color: #d4ebff;}#sk-container-id-1 div.sk-serial::before {content: \"\";position: absolute;border-left: 1px solid gray;box-sizing: border-box;top: 0;bottom: 0;left: 50%;z-index: 0;}#sk-container-id-1 div.sk-serial {display: flex;flex-direction: column;align-items: center;background-color: white;padding-right: 0.2em;padding-left: 0.2em;position: relative;}#sk-container-id-1 div.sk-item {position: relative;z-index: 1;}#sk-container-id-1 div.sk-parallel {display: flex;align-items: stretch;justify-content: center;background-color: white;position: relative;}#sk-container-id-1 div.sk-item::before, #sk-container-id-1 div.sk-parallel-item::before {content: \"\";position: absolute;border-left: 1px solid gray;box-sizing: border-box;top: 0;bottom: 0;left: 50%;z-index: -1;}#sk-container-id-1 div.sk-parallel-item {display: flex;flex-direction: column;z-index: 1;position: relative;background-color: white;}#sk-container-id-1 div.sk-parallel-item:first-child::after {align-self: flex-end;width: 50%;}#sk-container-id-1 div.sk-parallel-item:last-child::after {align-self: flex-start;width: 50%;}#sk-container-id-1 div.sk-parallel-item:only-child::after {width: 0;}#sk-container-id-1 div.sk-dashed-wrapped {border: 1px dashed gray;margin: 0 0.4em 0.5em 0.4em;box-sizing: border-box;padding-bottom: 0.4em;background-color: white;}#sk-container-id-1 div.sk-label label {font-family: monospace;font-weight: bold;display: inline-block;line-height: 1.2em;}#sk-container-id-1 div.sk-label-container {text-align: center;}#sk-container-id-1 div.sk-container {/* jupyter's `normalize.less` sets `[hidden] { display: none; }` but bootstrap.min.css set `[hidden] { display: none !important; }` so we also need the `!important` here to be able to override the default hidden behavior on the sphinx rendered scikit-learn.org. See: https://github.com/scikit-learn/scikit-learn/issues/21755 */display: inline-block !important;position: relative;}#sk-container-id-1 div.sk-text-repr-fallback {display: none;}</style><div id=\"sk-container-id-1\" class=\"sk-top-container\"><div class=\"sk-text-repr-fallback\"><pre>SVC()</pre><b>In a Jupyter environment, please rerun this cell to show the HTML representation or trust the notebook. <br />On GitHub, the HTML representation is unable to render, please try loading this page with nbviewer.org.</b></div><div class=\"sk-container\" hidden><div class=\"sk-item\"><div class=\"sk-estimator sk-toggleable\"><input class=\"sk-toggleable__control sk-hidden--visually\" id=\"sk-estimator-id-1\" type=\"checkbox\" checked><label for=\"sk-estimator-id-1\" class=\"sk-toggleable__label sk-toggleable__label-arrow\">SVC</label><div class=\"sk-toggleable__content\"><pre>SVC()</pre></div></div></div></div></div>"
            ]
          },
          "metadata": {},
          "execution_count": 49
        }
      ]
    },
    {
      "cell_type": "code",
      "source": [
        "preds = clf.predict(X_test)\n",
        "print(preds)"
      ],
      "metadata": {
        "colab": {
          "base_uri": "https://localhost:8080/"
        },
        "id": "pxfAjXArqLAp",
        "outputId": "189fc497-2fd3-45f7-9e02-ad38ae0bfb6a"
      },
      "execution_count": null,
      "outputs": [
        {
          "output_type": "stream",
          "name": "stdout",
          "text": [
            "[1 1 1 1 0 2 2 0 0 2 0 2 2 1 2 0 1 2 0 2 2 0 2 0 0 2 1 0 0 0 0 0 1 2 0 1 1\n",
            " 2 0 1 0 2 2 2 0 2 2 2 0 0 1 1 2 1 2 1 1 2 1 1]\n"
          ]
        }
      ]
    },
    {
      "cell_type": "code",
      "source": [
        "print('actual iris species')\n",
        "print(y_test)"
      ],
      "metadata": {
        "colab": {
          "base_uri": "https://localhost:8080/"
        },
        "id": "Aev6t-mQqKti",
        "outputId": "c24c33de-5acf-4ee9-999a-6e75cf0b601a"
      },
      "execution_count": null,
      "outputs": [
        {
          "output_type": "stream",
          "name": "stdout",
          "text": [
            "actual iris species\n",
            "[1 1 1 1 0 1 2 0 0 2 0 2 2 1 2 0 1 2 0 2 2 0 1 0 0 2 1 0 0 0 0 0 1 2 0 1 1\n",
            " 2 0 1 0 2 2 2 0 2 2 1 0 0 1 1 2 1 2 1 1 2 1 2]\n"
          ]
        }
      ]
    },
    {
      "cell_type": "code",
      "source": [
        "from sklearn.metrics import accuracy_score\n",
        "acc = accuracy_score(y_test,clf.predict(X_test) )\n",
        "print('accuracy score :', acc)"
      ],
      "metadata": {
        "colab": {
          "base_uri": "https://localhost:8080/"
        },
        "id": "WDFxv99dqSSk",
        "outputId": "98b57754-b859-4d4d-938a-13640db859f6"
      },
      "execution_count": null,
      "outputs": [
        {
          "output_type": "stream",
          "name": "stdout",
          "text": [
            "accuracy score : 0.9333333333333333\n"
          ]
        }
      ]
    },
    {
      "cell_type": "markdown",
      "source": [
        "The accuracy score considering the first three features, f(sepal length, sepal width,petal length) is 0.93333333"
      ],
      "metadata": {
        "id": "2dy6_PevqkQn"
      }
    },
    {
      "cell_type": "markdown",
      "source": [
        "."
      ],
      "metadata": {
        "id": "GZBcG0IUqubZ"
      }
    },
    {
      "cell_type": "markdown",
      "source": [
        "5. In class, we used a neural network to learn how to calculate square root. Use that code and ideas to teach a neural network how to calculate the 7-th root of any integer between 1 and 100."
      ],
      "metadata": {
        "id": "oEqhKk-xqwEM"
      }
    },
    {
      "cell_type": "code",
      "execution_count": null,
      "metadata": {
        "colab": {
          "base_uri": "https://localhost:8080/"
        },
        "id": "4zbTisU_JGTx",
        "outputId": "57b5a4da-c371-4409-eb6b-ca628be18308"
      },
      "outputs": [
        {
          "output_type": "stream",
          "name": "stdout",
          "text": [
            "Model: \"sequential_17\"\n",
            "_________________________________________________________________\n",
            " Layer (type)                Output Shape              Param #   \n",
            "=================================================================\n",
            " dense_68 (Dense)            (None, 6)                 12        \n",
            "                                                                 \n",
            " dense_69 (Dense)            (None, 6)                 42        \n",
            "                                                                 \n",
            " dense_70 (Dense)            (None, 6)                 42        \n",
            "                                                                 \n",
            " dense_71 (Dense)            (None, 1)                 7         \n",
            "                                                                 \n",
            "=================================================================\n",
            "Total params: 103 (412.00 Byte)\n",
            "Trainable params: 103 (412.00 Byte)\n",
            "Non-trainable params: 0 (0.00 Byte)\n",
            "_________________________________________________________________\n",
            "2/2 [==============================] - 0s 6ms/step\n",
            "[1.0] => 1.00 (expected 1.00)\n",
            "[4.0] => 1.22 (expected 1.22)\n",
            "[7.0] => 1.32 (expected 1.32)\n",
            "[10.0] => 1.38 (expected 1.39)\n",
            "[13.0] => 1.44 (expected 1.44)\n",
            "[16.0] => 1.50 (expected 1.49)\n",
            "[19.0] => 1.55 (expected 1.52)\n",
            "[22.0] => 1.57 (expected 1.56)\n",
            "[25.0] => 1.59 (expected 1.58)\n",
            "[28.0] => 1.61 (expected 1.61)\n",
            "[31.0] => 1.63 (expected 1.63)\n",
            "[34.0] => 1.65 (expected 1.65)\n",
            "[37.0] => 1.67 (expected 1.68)\n",
            "[40.0] => 1.69 (expected 1.69)\n",
            "[43.0] => 1.71 (expected 1.71)\n",
            "[46.0] => 1.73 (expected 1.73)\n",
            "[49.0] => 1.75 (expected 1.74)\n",
            "[52.0] => 1.77 (expected 1.76)\n",
            "[55.0] => 1.78 (expected 1.77)\n",
            "[58.0] => 1.79 (expected 1.79)\n",
            "[61.0] => 1.80 (expected 1.80)\n",
            "[64.0] => 1.81 (expected 1.81)\n",
            "[67.0] => 1.82 (expected 1.82)\n",
            "[70.0] => 1.84 (expected 1.83)\n",
            "[73.0] => 1.85 (expected 1.85)\n",
            "[76.0] => 1.86 (expected 1.86)\n",
            "[79.0] => 1.87 (expected 1.87)\n",
            "[82.0] => 1.88 (expected 1.88)\n",
            "[85.0] => 1.90 (expected 1.89)\n",
            "[88.0] => 1.91 (expected 1.90)\n",
            "[91.0] => 1.92 (expected 1.90)\n",
            "[94.0] => 1.93 (expected 1.91)\n",
            "[97.0] => 1.94 (expected 1.92)\n",
            "[100.0] => 1.96 (expected 1.93)\n"
          ]
        }
      ],
      "source": [
        "#Answer\n",
        "\n",
        "import tensorflow as tf\n",
        "from numpy import loadtxt\n",
        "from keras.models import Sequential\n",
        "from keras.layers import Dense\n",
        "from keras import optimizers\n",
        "from tensorflow.python.keras.optimizers import *\n",
        "import numpy as np\n",
        "\n",
        "\n",
        "#Load dataset\n",
        "#split into input (X) and output (y)\n",
        "X = np.array([[1], [4], [7], [10], [13], [16], [19], [22], [25], [28], [31],\n",
        "[34], [37], [40], [43], [46], [49], [52], [55], [58], [61], [64], [67], [70],\n",
        "[73], [76], [79], [82], [85],  [88],  [91],  [94],  [97], [100]])\n",
        "X = X*1.0\n",
        "\n",
        "y = np.array([[1.0], [1.21901365], [1.32046925], [1.38949549], [1.44256292],\n",
        "[1.48599429], [1.522927],  [1.55515854], [1.58381961], [1.60967004],\n",
        "[1.63324625], [1.65494171], [1.67505402], [1.69381398], [1.71140437],\n",
        "[1.72797253], [1.74363903], [1.7585039], [1.77265101], [1.78615147],\n",
        "[1.7990661], [1.81144733], [1.82334071], [1.83478607], [1.84581844],\n",
        "[1.85646881], [1.86676472], [1.87673079], [1.88638909], [1.89575949],\n",
        "[1.90485997], [1.91370683], [1.92231491], [1.93069773]])\n",
        "y = y*1.0\n",
        "\n",
        "#define keras model\n",
        "model = Sequential()\n",
        "\n",
        "model.add(Dense(6,input_dim=1,activation='relu'))\n",
        "model.add(Dense(6,activation='relu'))\n",
        "model.add(Dense(6,activation='relu'))\n",
        "model.add(Dense(1))\n",
        "\n",
        "#compile the keras model\n",
        "opt = optimizers.Adam(learning_rate=0.001)\n",
        "mse = tf.keras.losses.MeanSquaredError(\n",
        "    reduction=tf.keras.losses.Reduction.SUM)\n",
        "model.compile(loss=mse, optimizer=opt)\n",
        "\n",
        "\n",
        "#fit the keras model on the dataset (CPU)\n",
        "model.fit(X,y,epochs=2000,batch_size=10, verbose=0)\n",
        "model.summary()\n",
        "\n",
        "#make class predictions with the model\n",
        "predictions = model.predict(X)\n",
        "\n",
        "#summarize the first 10 cases\n",
        "for i in range(34):\n",
        "    print('%s => %.2f (expected %.2f)' %(X[i].tolist(), predictions[i], y[i]) )"
      ]
    },
    {
      "cell_type": "code",
      "source": [
        "import matplotlib.pyplot as plt\n",
        "number_grid = np.linspace(1, 100, 100)\n",
        "plt.scatter(X,y, label='data')\n",
        "plt.plot(number_grid,model.predict(np.expand_dims(number_grid,axis=1)) , color='red', label='model')\n",
        "plt.xlabel('number')\n",
        "plt.ylabel('square root')\n",
        "plt.legend()"
      ],
      "metadata": {
        "colab": {
          "base_uri": "https://localhost:8080/",
          "height": 490
        },
        "id": "WXLBKK3RJJNA",
        "outputId": "3b8d23e7-d585-4e65-e2b2-d3fad5463b3d"
      },
      "execution_count": null,
      "outputs": [
        {
          "output_type": "stream",
          "name": "stdout",
          "text": [
            "4/4 [==============================] - 0s 3ms/step\n"
          ]
        },
        {
          "output_type": "execute_result",
          "data": {
            "text/plain": [
              "<matplotlib.legend.Legend at 0x7f4703314610>"
            ]
          },
          "metadata": {},
          "execution_count": 56
        },
        {
          "output_type": "display_data",
          "data": {
            "text/plain": [
              "<Figure size 640x480 with 1 Axes>"
            ],
            "image/png": "[encoded data removed]"
          },
          "metadata": {}
        }
      ]
    },
    {
      "cell_type": "markdown",
      "source": [
        "."
      ],
      "metadata": {
        "id": "dNuwLvIesWrN"
      }
    },
    {
      "cell_type": "markdown",
      "source": [
        "6. Use the Iris dataset and the neural network code shown in class to create a\n",
        "neural network model that takes sepal length as input and predicts petal length as output.\n",
        "[Hint: Use Numpy or Pandas to wrangle Iris dataset to help define your input and output.\n",
        "You are free to define the number of neurons in each layer.]"
      ],
      "metadata": {
        "id": "h_gZPhW4sVuu"
      }
    },
    {
      "cell_type": "code",
      "source": [
        "import tensorflow as tf\n",
        "from numpy import loadtxt\n",
        "from keras.models import Sequential\n",
        "from keras.layers import Dense\n",
        "from keras import optimizers\n",
        "from tensorflow.python.keras.optimizers import *\n",
        "import numpy as np\n",
        "\n",
        "from sklearn.datasets import load_iris\n",
        "data = load_iris()\n",
        "\n",
        "#The input data (i.e. sepal length )\n",
        "iris = datasets.load_iris()\n",
        "iris.feature_names\n",
        "x1=iris.data[:,0]\n",
        "x_array=np.array(x1)\n",
        "X=x_array[..., None]\n",
        "X = X*1.0\n",
        "\n",
        "\n",
        "#The output data (i.e. petal length )\n",
        "y1=iris.data[:,2]\n",
        "y_array=np.array(y1)\n",
        "y=y_array[..., None]\n",
        "print(y.shape)\n",
        "y = y*1.0\n",
        "\n",
        "#Defining keras model\n",
        "model = Sequential()\n",
        "model.add(Dense(6,input_dim=1,activation='relu'))\n",
        "model.add(Dense(6,activation='relu'))\n",
        "model.add(Dense(6,activation='relu'))\n",
        "model.add(Dense(1))\n",
        "\n",
        "#Compiling the keras model\n",
        "opt = optimizers.Adam(learning_rate=0.001)\n",
        "mse = tf.keras.losses.MeanSquaredError(\n",
        "    reduction=tf.keras.losses.Reduction.SUM)\n",
        "model.compile(loss=mse, optimizer=opt)\n",
        "\n",
        "#Fitting the keras model on the dataset (CPU)\n",
        "model.fit(X,y,epochs=2000,batch_size=10, verbose=0)\n",
        "model.summary()\n",
        "\n",
        "#making class predictions with the model\n",
        "predictions = model.predict(X)\n",
        "\n",
        "#summarizing the first 200 cases\n",
        "for i in range(20):\n",
        "     print('%s => %.2f (expected %.2f)' %(X[i].tolist(), predictions[i], y[i]) )\n",
        "\n"
      ],
      "metadata": {
        "id": "E9YQqH-oWe1Q",
        "colab": {
          "base_uri": "https://localhost:8080/"
        },
        "outputId": "420efea5-87f4-4cad-e2eb-b4df355a99ec"
      },
      "execution_count": null,
      "outputs": [
        {
          "output_type": "stream",
          "name": "stdout",
          "text": [
            "(150, 1)\n",
            "Model: \"sequential_20\"\n",
            "_________________________________________________________________\n",
            " Layer (type)                Output Shape              Param #   \n",
            "=================================================================\n",
            " dense_80 (Dense)            (None, 6)                 12        \n",
            "                                                                 \n",
            " dense_81 (Dense)            (None, 6)                 42        \n",
            "                                                                 \n",
            " dense_82 (Dense)            (None, 6)                 42        \n",
            "                                                                 \n",
            " dense_83 (Dense)            (None, 1)                 7         \n",
            "                                                                 \n",
            "=================================================================\n",
            "Total params: 103 (412.00 Byte)\n",
            "Trainable params: 103 (412.00 Byte)\n",
            "Non-trainable params: 0 (0.00 Byte)\n",
            "_________________________________________________________________\n",
            "5/5 [==============================] - 0s 2ms/step\n",
            "[5.1] => 1.90 (expected 1.40)\n",
            "[4.9] => 1.70 (expected 1.40)\n",
            "[4.7] => 1.50 (expected 1.30)\n",
            "[4.6] => 1.40 (expected 1.50)\n",
            "[5.0] => 1.80 (expected 1.40)\n",
            "[5.4] => 2.41 (expected 1.70)\n",
            "[4.6] => 1.40 (expected 1.40)\n",
            "[5.0] => 1.80 (expected 1.50)\n",
            "[4.4] => 1.19 (expected 1.40)\n",
            "[4.9] => 1.70 (expected 1.50)\n",
            "[5.4] => 2.41 (expected 1.50)\n",
            "[4.8] => 1.60 (expected 1.60)\n",
            "[4.8] => 1.60 (expected 1.40)\n",
            "[4.3] => 1.09 (expected 1.10)\n",
            "[5.8] => 3.95 (expected 1.20)\n",
            "[5.7] => 3.56 (expected 1.50)\n",
            "[5.4] => 2.41 (expected 1.30)\n",
            "[5.1] => 1.90 (expected 1.40)\n",
            "[5.7] => 3.56 (expected 1.70)\n",
            "[5.1] => 1.90 (expected 1.50)\n"
          ]
        }
      ]
    },
    {
      "cell_type": "code",
      "source": [
        "import matplotlib.pyplot as plt\n",
        "number_grid = np.linspace(1, 10, 10)\n",
        "plt.scatter(X,y, label='data')\n",
        "plt.plot(number_grid,model.predict(np.expand_dims(number_grid,axis=1)) , color='red', label='model')\n",
        "plt.xlabel('Sepal length')\n",
        "plt.ylabel('Petal length')\n",
        "plt.legend()"
      ],
      "metadata": {
        "colab": {
          "base_uri": "https://localhost:8080/",
          "height": 485
        },
        "id": "utBFQ2fkxUh0",
        "outputId": "1a7efbd5-94c8-492f-a78c-34f6e2733023"
      },
      "execution_count": null,
      "outputs": [
        {
          "output_type": "stream",
          "name": "stdout",
          "text": [
            "1/1 [==============================] - 0s 22ms/step\n"
          ]
        },
        {
          "output_type": "execute_result",
          "data": {
            "text/plain": [
              "<matplotlib.legend.Legend at 0x7f470106a260>"
            ]
          },
          "metadata": {},
          "execution_count": 62
        },
        {
          "output_type": "display_data",
          "data": {
            "text/plain": [
              "<Figure size 640x480 with 1 Axes>"
            ],
            "image/png": "[encoded data removed]"
          },
          "metadata": {}
        }
      ]
    },
    {
      "cell_type": "code",
      "source": [
        "!apt update\n",
        "!apt install texlive-xetex texlive-fonts-recommended texlive-generic-recommended\n",
        "\n"
      ],
      "metadata": {
        "colab": {
          "base_uri": "https://localhost:8080/"
        },
        "id": "IgvtLNl3_bzF",
        "outputId": "22d80918-bd94-45dc-8c0c-68cf63685136"
      },
      "execution_count": null,
      "outputs": [
        {
          "output_type": "stream",
          "name": "stdout",
          "text": [
            "\u001b[33m\r0% [Working]\u001b[0m\r            \rHit:1 https://cloud.r-project.org/bin/linux/ubuntu jammy-cran40/ InRelease\n",
            "Hit:2 https://developer.download.nvidia.com/compute/cuda/repos/ubuntu2204/x86_64  InRelease\n",
            "Hit:3 http://security.ubuntu.com/ubuntu jammy-security InRelease\n",
            "Hit:4 http://archive.ubuntu.com/ubuntu jammy InRelease\n",
            "Hit:5 http://archive.ubuntu.com/ubuntu jammy-updates InRelease\n",
            "Hit:6 http://archive.ubuntu.com/ubuntu jammy-backports InRelease\n",
            "Hit:7 https://ppa.launchpadcontent.net/c2d4u.team/c2d4u4.0+/ubuntu jammy InRelease\n",
            "Hit:8 https://ppa.launchpadcontent.net/deadsnakes/ppa/ubuntu jammy InRelease\n",
            "Hit:9 https://ppa.launchpadcontent.net/graphics-drivers/ppa/ubuntu jammy InRelease\n",
            "Hit:10 https://ppa.launchpadcontent.net/ubuntugis/ppa/ubuntu jammy InRelease\n",
            "Reading package lists... Done\n",
            "Building dependency tree... Done\n",
            "Reading state information... Done\n",
            "43 packages can be upgraded. Run 'apt list --upgradable' to see them.\n",
            "Reading package lists... Done\n",
            "Building dependency tree... Done\n",
            "Reading state information... Done\n",
            "\u001b[1;31mE: \u001b[0mUnable to locate package texlive-generic-recommended\u001b[0m\n"
          ]
        }
      ]
    },
    {
      "cell_type": "code",
      "source": [],
      "metadata": {
        "id": "9P1K6EXY_dJK"
      },
      "execution_count": null,
      "outputs": []
    }
  ]
}